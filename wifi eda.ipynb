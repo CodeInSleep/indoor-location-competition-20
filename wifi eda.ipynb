{
 "cells": [
  {
   "cell_type": "code",
   "execution_count": 1,
   "id": "useful-hardware",
   "metadata": {},
   "outputs": [],
   "source": [
    "from pathlib import Path"
   ]
  },
  {
   "cell_type": "code",
   "execution_count": 2,
   "id": "suburban-toolbox",
   "metadata": {},
   "outputs": [],
   "source": [
    "floor_data_dir = \"./data/site1/F1\"\n",
    "path_data_dir = floor_data_dir + \"/path_data_files\""
   ]
  },
  {
   "cell_type": "code",
   "execution_count": 3,
   "id": "governmental-custom",
   "metadata": {},
   "outputs": [],
   "source": [
    "path_filenames = list(Path(path_data_dir).resolve().glob(\"*.txt\"))"
   ]
  },
  {
   "cell_type": "code",
   "execution_count": 5,
   "id": "optimum-wesley",
   "metadata": {},
   "outputs": [
    {
     "name": "stdout",
     "output_type": "stream",
     "text": [
      "Processing file: /Users/li-wei/fun/indoor-location-competition-20/data/site1/F1/path_data_files/5dd9fd5ec5b77e0006b173da.txt...\n",
      "Processing file: /Users/li-wei/fun/indoor-location-competition-20/data/site1/F1/path_data_files/5dd9fd649191710006b570f4.txt...\n",
      "Processing file: /Users/li-wei/fun/indoor-location-competition-20/data/site1/F1/path_data_files/5dd9fd4ec5b77e0006b173ce.txt...\n",
      "Processing file: /Users/li-wei/fun/indoor-location-competition-20/data/site1/F1/path_data_files/5dd9fd47c5b77e0006b173c8.txt...\n",
      "Processing file: /Users/li-wei/fun/indoor-location-competition-20/data/site1/F1/path_data_files/5dd9fd669191710006b570f6.txt...\n"
     ]
    }
   ],
   "source": [
    "for i, path_filename in enumerate(path_filenames[:5]):\n",
    "    print(f\"Processing file: {path_filename}...\")"
   ]
  },
  {
   "cell_type": "code",
   "execution_count": null,
   "id": "otherwise-trauma",
   "metadata": {},
   "outputs": [],
   "source": []
  }
 ],
 "metadata": {
  "kernelspec": {
   "display_name": "cv",
   "language": "python",
   "name": "cv"
  },
  "language_info": {
   "codemirror_mode": {
    "name": "ipython",
    "version": 3
   },
   "file_extension": ".py",
   "mimetype": "text/x-python",
   "name": "python",
   "nbconvert_exporter": "python",
   "pygments_lexer": "ipython3",
   "version": "3.6.5"
  }
 },
 "nbformat": 4,
 "nbformat_minor": 5
}
